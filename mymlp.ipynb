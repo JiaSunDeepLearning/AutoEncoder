{
  "nbformat": 4,
  "nbformat_minor": 0,
  "metadata": {
    "colab": {
      "name": "mymlp.ipynb",
      "provenance": [],
      "collapsed_sections": [],
      "include_colab_link": true
    },
    "kernelspec": {
      "name": "python3",
      "display_name": "Python 3"
    },
    "accelerator": "GPU"
  },
  "cells": [
    {
      "cell_type": "markdown",
      "metadata": {
        "id": "view-in-github",
        "colab_type": "text"
      },
      "source": [
        "<a href=\"https://colab.research.google.com/github/JiaSunDeepLearning/AutoEncoder/blob/master/mymlp.ipynb\" target=\"_parent\"><img src=\"https://colab.research.google.com/assets/colab-badge.svg\" alt=\"Open In Colab\"/></a>"
      ]
    },
    {
      "cell_type": "code",
      "metadata": {
        "id": "kCBb6P5YpiaC",
        "colab_type": "code",
        "colab": {
          "base_uri": "https://localhost:8080/",
          "height": 302
        },
        "outputId": "6356bb01-ea86-4486-e211-6bd2cc9107c5"
      },
      "source": [
        "import numpy as np\n",
        "\n",
        "Learn_rate = 0.0001\n",
        "epoch = 1\n",
        "batch = 1\n",
        "\n",
        "\n",
        "def model():\n",
        "    pass\n",
        "\n",
        "\n",
        "def compute_loss():\n",
        "    pass\n",
        "\n",
        "\n",
        "def main():\n",
        "    x = np.random.randn(64, 1)\n",
        "    print(\"x\")\n",
        "    print(x.shape)\n",
        "    label = 1\n",
        "    w1 = np.random.rand(16, 64)\n",
        "    y = np.dot(w1, x)\n",
        "    print(\"y\")\n",
        "    print(y.shape)\n",
        "    w2 = np.random.rand(64, 16)\n",
        "    z = np.dot(w2, y)\n",
        "    print(\"model:\\n layer1: Dense(64)\\n layer2: Dense(16)\\n layer3: Dense(64)\\n Dropout(0)\\n\")\n",
        "    print(\"z\")\n",
        "    print(z.shape)\n",
        "    loss = np.linalg.norm(x, keepdims=False)\n",
        "    print(loss)\n",
        "\n",
        "    # 梯度计算\n",
        "    dl_dw2 = (x-z)*(np.dot(w2, y))\n",
        "    print(\"dl_dw2\")\n",
        "    print(dl_dw2.shape)\n",
        "\n",
        "    dl_dw1 = w1\n",
        "    print(\"dl_dw1\")\n",
        "    print(dl_dw1.shape)\n",
        "    # 参数调整\n",
        "\n",
        "    w1 = w1 - Learn_rate*dl_dw1\n",
        "    w2 = w2 - Learn_rate*dl_dw2\n",
        "\n",
        "\n",
        "if __name__ == '__main__':\n",
        "    main()\n"
      ],
      "execution_count": 2,
      "outputs": [
        {
          "output_type": "stream",
          "text": [
            "x\n",
            "(64, 1)\n",
            "y\n",
            "(16, 1)\n",
            "model:\n",
            " layer1: Dense(64)\n",
            " layer2: Dense(16)\n",
            " layer3: Dense(64)\n",
            " Dropout(0)\n",
            "\n",
            "z\n",
            "(64, 1)\n",
            "8.806896114653036\n",
            "dl_dw2\n",
            "(64, 1)\n",
            "dl_dw1\n",
            "(16, 64)\n"
          ],
          "name": "stdout"
        }
      ]
    }
  ]
}